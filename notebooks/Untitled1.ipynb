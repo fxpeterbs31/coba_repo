{
 "cells": [
  {
   "cell_type": "code",
   "execution_count": 1,
   "id": "703167c0",
   "metadata": {},
   "outputs": [
    {
     "name": "stdout",
     "output_type": "stream",
     "text": [
      "Requirement already satisfied: streamlit in /Users/clarissa/anaconda3/envs/thesis/lib/python3.8/site-packages (1.23.1)\n",
      "Requirement already satisfied: typing-extensions<5,>=4.0.1 in /Users/clarissa/anaconda3/envs/thesis/lib/python3.8/site-packages (from streamlit) (4.6.3)\n",
      "Requirement already satisfied: cachetools<6,>=4.0 in /Users/clarissa/anaconda3/envs/thesis/lib/python3.8/site-packages (from streamlit) (5.3.1)\n",
      "Requirement already satisfied: packaging<24,>=14.1 in /Users/clarissa/anaconda3/envs/thesis/lib/python3.8/site-packages (from streamlit) (23.1)\n",
      "Requirement already satisfied: pympler<2,>=0.9 in /Users/clarissa/anaconda3/envs/thesis/lib/python3.8/site-packages (from streamlit) (1.0.1)\n",
      "Requirement already satisfied: numpy<2,>=1 in /Users/clarissa/anaconda3/envs/thesis/lib/python3.8/site-packages (from streamlit) (1.24.3)\n",
      "Requirement already satisfied: gitpython!=3.1.19,<4,>=3 in /Users/clarissa/anaconda3/envs/thesis/lib/python3.8/site-packages (from streamlit) (3.1.31)\n",
      "Requirement already satisfied: protobuf<5,>=3.20 in /Users/clarissa/anaconda3/envs/thesis/lib/python3.8/site-packages (from streamlit) (4.23.2)\n",
      "Requirement already satisfied: rich<14,>=10.11.0 in /Users/clarissa/anaconda3/envs/thesis/lib/python3.8/site-packages (from streamlit) (13.4.1)\n",
      "Requirement already satisfied: tenacity<9,>=8.0.0 in /Users/clarissa/anaconda3/envs/thesis/lib/python3.8/site-packages (from streamlit) (8.2.2)\n",
      "Requirement already satisfied: click<9,>=7.0 in /Users/clarissa/anaconda3/envs/thesis/lib/python3.8/site-packages (from streamlit) (8.1.3)\n",
      "Requirement already satisfied: tzlocal<5,>=1.1 in /Users/clarissa/anaconda3/envs/thesis/lib/python3.8/site-packages (from streamlit) (4.3)\n",
      "Requirement already satisfied: python-dateutil<3,>=2 in /Users/clarissa/anaconda3/envs/thesis/lib/python3.8/site-packages (from streamlit) (2.8.2)\n",
      "Requirement already satisfied: importlib-metadata<7,>=1.4 in /Users/clarissa/anaconda3/envs/thesis/lib/python3.8/site-packages (from streamlit) (6.6.0)\n",
      "Requirement already satisfied: toml<2 in /Users/clarissa/anaconda3/envs/thesis/lib/python3.8/site-packages (from streamlit) (0.10.2)\n",
      "Requirement already satisfied: tornado<7,>=6.0.3 in /Users/clarissa/anaconda3/envs/thesis/lib/python3.8/site-packages (from streamlit) (6.3.2)\n",
      "Requirement already satisfied: pyarrow>=4.0 in /Users/clarissa/anaconda3/envs/thesis/lib/python3.8/site-packages (from streamlit) (12.0.0)\n",
      "Requirement already satisfied: blinker<2,>=1.0.0 in /Users/clarissa/anaconda3/envs/thesis/lib/python3.8/site-packages (from streamlit) (1.6.2)\n",
      "Requirement already satisfied: altair<6,>=4.0 in /Users/clarissa/anaconda3/envs/thesis/lib/python3.8/site-packages (from streamlit) (5.0.1)\n",
      "Requirement already satisfied: pydeck<1,>=0.1.dev5 in /Users/clarissa/anaconda3/envs/thesis/lib/python3.8/site-packages (from streamlit) (0.8.1b0)\n",
      "Requirement already satisfied: pillow<10,>=6.2.0 in /Users/clarissa/anaconda3/envs/thesis/lib/python3.8/site-packages (from streamlit) (9.5.0)\n",
      "Requirement already satisfied: requests<3,>=2.4 in /Users/clarissa/anaconda3/envs/thesis/lib/python3.8/site-packages (from streamlit) (2.31.0)\n",
      "Requirement already satisfied: pandas<3,>=0.25 in /Users/clarissa/anaconda3/envs/thesis/lib/python3.8/site-packages (from streamlit) (2.0.2)\n",
      "Requirement already satisfied: validators<1,>=0.2 in /Users/clarissa/anaconda3/envs/thesis/lib/python3.8/site-packages (from streamlit) (0.20.0)\n",
      "Requirement already satisfied: toolz in /Users/clarissa/anaconda3/envs/thesis/lib/python3.8/site-packages (from altair<6,>=4.0->streamlit) (0.12.0)\n",
      "Requirement already satisfied: jsonschema>=3.0 in /Users/clarissa/anaconda3/envs/thesis/lib/python3.8/site-packages (from altair<6,>=4.0->streamlit) (4.17.3)\n",
      "Requirement already satisfied: jinja2 in /Users/clarissa/anaconda3/envs/thesis/lib/python3.8/site-packages (from altair<6,>=4.0->streamlit) (3.1.2)\n",
      "Requirement already satisfied: gitdb<5,>=4.0.1 in /Users/clarissa/anaconda3/envs/thesis/lib/python3.8/site-packages (from gitpython!=3.1.19,<4,>=3->streamlit) (4.0.10)\n",
      "Requirement already satisfied: zipp>=0.5 in /Users/clarissa/anaconda3/envs/thesis/lib/python3.8/site-packages (from importlib-metadata<7,>=1.4->streamlit) (3.15.0)\n",
      "Requirement already satisfied: tzdata>=2022.1 in /Users/clarissa/anaconda3/envs/thesis/lib/python3.8/site-packages (from pandas<3,>=0.25->streamlit) (2023.3)\n",
      "Requirement already satisfied: pytz>=2020.1 in /Users/clarissa/anaconda3/envs/thesis/lib/python3.8/site-packages (from pandas<3,>=0.25->streamlit) (2023.3)\n",
      "Requirement already satisfied: six>=1.5 in /Users/clarissa/anaconda3/envs/thesis/lib/python3.8/site-packages (from python-dateutil<3,>=2->streamlit) (1.16.0)\n",
      "Requirement already satisfied: charset-normalizer<4,>=2 in /Users/clarissa/anaconda3/envs/thesis/lib/python3.8/site-packages (from requests<3,>=2.4->streamlit) (3.1.0)\n",
      "Requirement already satisfied: urllib3<3,>=1.21.1 in /Users/clarissa/anaconda3/envs/thesis/lib/python3.8/site-packages (from requests<3,>=2.4->streamlit) (2.0.3)\n",
      "Requirement already satisfied: certifi>=2017.4.17 in /Users/clarissa/anaconda3/envs/thesis/lib/python3.8/site-packages (from requests<3,>=2.4->streamlit) (2023.5.7)\n",
      "Requirement already satisfied: idna<4,>=2.5 in /Users/clarissa/anaconda3/envs/thesis/lib/python3.8/site-packages (from requests<3,>=2.4->streamlit) (3.4)\n",
      "Requirement already satisfied: markdown-it-py<3.0.0,>=2.2.0 in /Users/clarissa/anaconda3/envs/thesis/lib/python3.8/site-packages (from rich<14,>=10.11.0->streamlit) (2.2.0)\n",
      "Requirement already satisfied: pygments<3.0.0,>=2.13.0 in /Users/clarissa/anaconda3/envs/thesis/lib/python3.8/site-packages (from rich<14,>=10.11.0->streamlit) (2.15.1)\n",
      "Requirement already satisfied: backports.zoneinfo in /Users/clarissa/anaconda3/envs/thesis/lib/python3.8/site-packages (from tzlocal<5,>=1.1->streamlit) (0.2.1)\n",
      "Requirement already satisfied: pytz-deprecation-shim in /Users/clarissa/anaconda3/envs/thesis/lib/python3.8/site-packages (from tzlocal<5,>=1.1->streamlit) (0.1.0.post0)\n",
      "Requirement already satisfied: decorator>=3.4.0 in /Users/clarissa/anaconda3/envs/thesis/lib/python3.8/site-packages (from validators<1,>=0.2->streamlit) (5.1.1)\n",
      "Requirement already satisfied: smmap<6,>=3.0.1 in /Users/clarissa/anaconda3/envs/thesis/lib/python3.8/site-packages (from gitdb<5,>=4.0.1->gitpython!=3.1.19,<4,>=3->streamlit) (5.0.0)\n",
      "Requirement already satisfied: MarkupSafe>=2.0 in /Users/clarissa/anaconda3/envs/thesis/lib/python3.8/site-packages (from jinja2->altair<6,>=4.0->streamlit) (2.1.3)\n",
      "Requirement already satisfied: importlib-resources>=1.4.0 in /Users/clarissa/anaconda3/envs/thesis/lib/python3.8/site-packages (from jsonschema>=3.0->altair<6,>=4.0->streamlit) (5.12.0)\n",
      "Requirement already satisfied: pyrsistent!=0.17.0,!=0.17.1,!=0.17.2,>=0.14.0 in /Users/clarissa/anaconda3/envs/thesis/lib/python3.8/site-packages (from jsonschema>=3.0->altair<6,>=4.0->streamlit) (0.19.3)\n",
      "Requirement already satisfied: attrs>=17.4.0 in /Users/clarissa/anaconda3/envs/thesis/lib/python3.8/site-packages (from jsonschema>=3.0->altair<6,>=4.0->streamlit) (23.1.0)\n",
      "Requirement already satisfied: pkgutil-resolve-name>=1.3.10 in /Users/clarissa/anaconda3/envs/thesis/lib/python3.8/site-packages (from jsonschema>=3.0->altair<6,>=4.0->streamlit) (1.3.10)\n",
      "Requirement already satisfied: mdurl~=0.1 in /Users/clarissa/anaconda3/envs/thesis/lib/python3.8/site-packages (from markdown-it-py<3.0.0,>=2.2.0->rich<14,>=10.11.0->streamlit) (0.1.2)\n"
     ]
    }
   ],
   "source": [
    "!pip install streamlit"
   ]
  },
  {
   "cell_type": "code",
   "execution_count": 17,
   "id": "802da279",
   "metadata": {},
   "outputs": [
    {
     "name": "stdout",
     "output_type": "stream",
     "text": [
      "Requirement already satisfied: folium in /Users/clarissa/anaconda3/envs/thesis/lib/python3.8/site-packages (0.14.0)\n",
      "Requirement already satisfied: requests in /Users/clarissa/anaconda3/envs/thesis/lib/python3.8/site-packages (from folium) (2.31.0)\n",
      "Requirement already satisfied: jinja2>=2.9 in /Users/clarissa/anaconda3/envs/thesis/lib/python3.8/site-packages (from folium) (3.1.2)\n",
      "Requirement already satisfied: numpy in /Users/clarissa/anaconda3/envs/thesis/lib/python3.8/site-packages (from folium) (1.24.3)\n",
      "Requirement already satisfied: branca>=0.6.0 in /Users/clarissa/anaconda3/envs/thesis/lib/python3.8/site-packages (from folium) (0.6.0)\n",
      "Requirement already satisfied: MarkupSafe>=2.0 in /Users/clarissa/anaconda3/envs/thesis/lib/python3.8/site-packages (from jinja2>=2.9->folium) (2.1.3)\n",
      "Requirement already satisfied: charset-normalizer<4,>=2 in /Users/clarissa/anaconda3/envs/thesis/lib/python3.8/site-packages (from requests->folium) (3.1.0)\n",
      "Requirement already satisfied: certifi>=2017.4.17 in /Users/clarissa/anaconda3/envs/thesis/lib/python3.8/site-packages (from requests->folium) (2023.5.7)\n",
      "Requirement already satisfied: idna<4,>=2.5 in /Users/clarissa/anaconda3/envs/thesis/lib/python3.8/site-packages (from requests->folium) (3.4)\n",
      "Requirement already satisfied: urllib3<3,>=1.21.1 in /Users/clarissa/anaconda3/envs/thesis/lib/python3.8/site-packages (from requests->folium) (2.0.3)\n",
      "Collecting streamlit-folium\n",
      "  Downloading streamlit_folium-0.12.0-py3-none-any.whl (449 kB)\n",
      "\u001b[2K     \u001b[90m━━━━━━━━━━━━━━━━━━━━━━━━━━━━━━━━━━━━━━━\u001b[0m \u001b[32m449.3/449.3 kB\u001b[0m \u001b[31m2.2 MB/s\u001b[0m eta \u001b[36m0:00:00\u001b[0m00:01\u001b[0m00:01\u001b[0m\n",
      "\u001b[?25hRequirement already satisfied: branca in /Users/clarissa/anaconda3/envs/thesis/lib/python3.8/site-packages (from streamlit-folium) (0.6.0)\n",
      "Requirement already satisfied: streamlit>=1.13.0 in /Users/clarissa/anaconda3/envs/thesis/lib/python3.8/site-packages (from streamlit-folium) (1.23.1)\n",
      "Requirement already satisfied: jinja2 in /Users/clarissa/anaconda3/envs/thesis/lib/python3.8/site-packages (from streamlit-folium) (3.1.2)\n",
      "Requirement already satisfied: folium>=0.13 in /Users/clarissa/anaconda3/envs/thesis/lib/python3.8/site-packages (from streamlit-folium) (0.14.0)\n",
      "Requirement already satisfied: requests in /Users/clarissa/anaconda3/envs/thesis/lib/python3.8/site-packages (from folium>=0.13->streamlit-folium) (2.31.0)\n",
      "Requirement already satisfied: numpy in /Users/clarissa/anaconda3/envs/thesis/lib/python3.8/site-packages (from folium>=0.13->streamlit-folium) (1.24.3)\n",
      "Requirement already satisfied: MarkupSafe>=2.0 in /Users/clarissa/anaconda3/envs/thesis/lib/python3.8/site-packages (from jinja2->streamlit-folium) (2.1.3)\n",
      "Requirement already satisfied: altair<6,>=4.0 in /Users/clarissa/anaconda3/envs/thesis/lib/python3.8/site-packages (from streamlit>=1.13.0->streamlit-folium) (5.0.1)\n",
      "Requirement already satisfied: typing-extensions<5,>=4.0.1 in /Users/clarissa/anaconda3/envs/thesis/lib/python3.8/site-packages (from streamlit>=1.13.0->streamlit-folium) (4.6.3)\n",
      "Requirement already satisfied: tornado<7,>=6.0.3 in /Users/clarissa/anaconda3/envs/thesis/lib/python3.8/site-packages (from streamlit>=1.13.0->streamlit-folium) (6.3.2)\n",
      "Requirement already satisfied: pympler<2,>=0.9 in /Users/clarissa/anaconda3/envs/thesis/lib/python3.8/site-packages (from streamlit>=1.13.0->streamlit-folium) (1.0.1)\n",
      "Requirement already satisfied: python-dateutil<3,>=2 in /Users/clarissa/anaconda3/envs/thesis/lib/python3.8/site-packages (from streamlit>=1.13.0->streamlit-folium) (2.8.2)\n",
      "Requirement already satisfied: protobuf<5,>=3.20 in /Users/clarissa/anaconda3/envs/thesis/lib/python3.8/site-packages (from streamlit>=1.13.0->streamlit-folium) (4.23.2)\n",
      "Requirement already satisfied: pillow<10,>=6.2.0 in /Users/clarissa/anaconda3/envs/thesis/lib/python3.8/site-packages (from streamlit>=1.13.0->streamlit-folium) (9.5.0)\n",
      "Requirement already satisfied: tzlocal<5,>=1.1 in /Users/clarissa/anaconda3/envs/thesis/lib/python3.8/site-packages (from streamlit>=1.13.0->streamlit-folium) (4.3)\n",
      "Requirement already satisfied: importlib-metadata<7,>=1.4 in /Users/clarissa/anaconda3/envs/thesis/lib/python3.8/site-packages (from streamlit>=1.13.0->streamlit-folium) (6.6.0)\n",
      "Requirement already satisfied: cachetools<6,>=4.0 in /Users/clarissa/anaconda3/envs/thesis/lib/python3.8/site-packages (from streamlit>=1.13.0->streamlit-folium) (5.3.1)\n",
      "Requirement already satisfied: blinker<2,>=1.0.0 in /Users/clarissa/anaconda3/envs/thesis/lib/python3.8/site-packages (from streamlit>=1.13.0->streamlit-folium) (1.6.2)\n",
      "Requirement already satisfied: validators<1,>=0.2 in /Users/clarissa/anaconda3/envs/thesis/lib/python3.8/site-packages (from streamlit>=1.13.0->streamlit-folium) (0.20.0)\n",
      "Requirement already satisfied: pydeck<1,>=0.1.dev5 in /Users/clarissa/anaconda3/envs/thesis/lib/python3.8/site-packages (from streamlit>=1.13.0->streamlit-folium) (0.8.1b0)\n",
      "Requirement already satisfied: packaging<24,>=14.1 in /Users/clarissa/anaconda3/envs/thesis/lib/python3.8/site-packages (from streamlit>=1.13.0->streamlit-folium) (23.1)\n",
      "Requirement already satisfied: pandas<3,>=0.25 in /Users/clarissa/anaconda3/envs/thesis/lib/python3.8/site-packages (from streamlit>=1.13.0->streamlit-folium) (2.0.2)\n",
      "Requirement already satisfied: rich<14,>=10.11.0 in /Users/clarissa/anaconda3/envs/thesis/lib/python3.8/site-packages (from streamlit>=1.13.0->streamlit-folium) (13.4.1)\n",
      "Requirement already satisfied: toml<2 in /Users/clarissa/anaconda3/envs/thesis/lib/python3.8/site-packages (from streamlit>=1.13.0->streamlit-folium) (0.10.2)\n",
      "Requirement already satisfied: gitpython!=3.1.19,<4,>=3 in /Users/clarissa/anaconda3/envs/thesis/lib/python3.8/site-packages (from streamlit>=1.13.0->streamlit-folium) (3.1.31)\n",
      "Requirement already satisfied: pyarrow>=4.0 in /Users/clarissa/anaconda3/envs/thesis/lib/python3.8/site-packages (from streamlit>=1.13.0->streamlit-folium) (12.0.0)\n",
      "Requirement already satisfied: tenacity<9,>=8.0.0 in /Users/clarissa/anaconda3/envs/thesis/lib/python3.8/site-packages (from streamlit>=1.13.0->streamlit-folium) (8.2.2)\n",
      "Requirement already satisfied: click<9,>=7.0 in /Users/clarissa/anaconda3/envs/thesis/lib/python3.8/site-packages (from streamlit>=1.13.0->streamlit-folium) (8.1.3)\n",
      "Requirement already satisfied: toolz in /Users/clarissa/anaconda3/envs/thesis/lib/python3.8/site-packages (from altair<6,>=4.0->streamlit>=1.13.0->streamlit-folium) (0.12.0)\n",
      "Requirement already satisfied: jsonschema>=3.0 in /Users/clarissa/anaconda3/envs/thesis/lib/python3.8/site-packages (from altair<6,>=4.0->streamlit>=1.13.0->streamlit-folium) (4.17.3)\n",
      "Requirement already satisfied: gitdb<5,>=4.0.1 in /Users/clarissa/anaconda3/envs/thesis/lib/python3.8/site-packages (from gitpython!=3.1.19,<4,>=3->streamlit>=1.13.0->streamlit-folium) (4.0.10)\n",
      "Requirement already satisfied: zipp>=0.5 in /Users/clarissa/anaconda3/envs/thesis/lib/python3.8/site-packages (from importlib-metadata<7,>=1.4->streamlit>=1.13.0->streamlit-folium) (3.15.0)\n",
      "Requirement already satisfied: pytz>=2020.1 in /Users/clarissa/anaconda3/envs/thesis/lib/python3.8/site-packages (from pandas<3,>=0.25->streamlit>=1.13.0->streamlit-folium) (2023.3)\n",
      "Requirement already satisfied: tzdata>=2022.1 in /Users/clarissa/anaconda3/envs/thesis/lib/python3.8/site-packages (from pandas<3,>=0.25->streamlit>=1.13.0->streamlit-folium) (2023.3)\n",
      "Requirement already satisfied: six>=1.5 in /Users/clarissa/anaconda3/envs/thesis/lib/python3.8/site-packages (from python-dateutil<3,>=2->streamlit>=1.13.0->streamlit-folium) (1.16.0)\n",
      "Requirement already satisfied: urllib3<3,>=1.21.1 in /Users/clarissa/anaconda3/envs/thesis/lib/python3.8/site-packages (from requests->folium>=0.13->streamlit-folium) (2.0.3)\n",
      "Requirement already satisfied: charset-normalizer<4,>=2 in /Users/clarissa/anaconda3/envs/thesis/lib/python3.8/site-packages (from requests->folium>=0.13->streamlit-folium) (3.1.0)\n",
      "Requirement already satisfied: certifi>=2017.4.17 in /Users/clarissa/anaconda3/envs/thesis/lib/python3.8/site-packages (from requests->folium>=0.13->streamlit-folium) (2023.5.7)\n",
      "Requirement already satisfied: idna<4,>=2.5 in /Users/clarissa/anaconda3/envs/thesis/lib/python3.8/site-packages (from requests->folium>=0.13->streamlit-folium) (3.4)\n",
      "Requirement already satisfied: pygments<3.0.0,>=2.13.0 in /Users/clarissa/anaconda3/envs/thesis/lib/python3.8/site-packages (from rich<14,>=10.11.0->streamlit>=1.13.0->streamlit-folium) (2.15.1)\n",
      "Requirement already satisfied: markdown-it-py<3.0.0,>=2.2.0 in /Users/clarissa/anaconda3/envs/thesis/lib/python3.8/site-packages (from rich<14,>=10.11.0->streamlit>=1.13.0->streamlit-folium) (2.2.0)\n",
      "Requirement already satisfied: pytz-deprecation-shim in /Users/clarissa/anaconda3/envs/thesis/lib/python3.8/site-packages (from tzlocal<5,>=1.1->streamlit>=1.13.0->streamlit-folium) (0.1.0.post0)\n",
      "Requirement already satisfied: backports.zoneinfo in /Users/clarissa/anaconda3/envs/thesis/lib/python3.8/site-packages (from tzlocal<5,>=1.1->streamlit>=1.13.0->streamlit-folium) (0.2.1)\n",
      "Requirement already satisfied: decorator>=3.4.0 in /Users/clarissa/anaconda3/envs/thesis/lib/python3.8/site-packages (from validators<1,>=0.2->streamlit>=1.13.0->streamlit-folium) (5.1.1)\n"
     ]
    },
    {
     "name": "stdout",
     "output_type": "stream",
     "text": [
      "Requirement already satisfied: smmap<6,>=3.0.1 in /Users/clarissa/anaconda3/envs/thesis/lib/python3.8/site-packages (from gitdb<5,>=4.0.1->gitpython!=3.1.19,<4,>=3->streamlit>=1.13.0->streamlit-folium) (5.0.0)\n",
      "Requirement already satisfied: pkgutil-resolve-name>=1.3.10 in /Users/clarissa/anaconda3/envs/thesis/lib/python3.8/site-packages (from jsonschema>=3.0->altair<6,>=4.0->streamlit>=1.13.0->streamlit-folium) (1.3.10)\n",
      "Requirement already satisfied: attrs>=17.4.0 in /Users/clarissa/anaconda3/envs/thesis/lib/python3.8/site-packages (from jsonschema>=3.0->altair<6,>=4.0->streamlit>=1.13.0->streamlit-folium) (23.1.0)\n",
      "Requirement already satisfied: pyrsistent!=0.17.0,!=0.17.1,!=0.17.2,>=0.14.0 in /Users/clarissa/anaconda3/envs/thesis/lib/python3.8/site-packages (from jsonschema>=3.0->altair<6,>=4.0->streamlit>=1.13.0->streamlit-folium) (0.19.3)\n",
      "Requirement already satisfied: importlib-resources>=1.4.0 in /Users/clarissa/anaconda3/envs/thesis/lib/python3.8/site-packages (from jsonschema>=3.0->altair<6,>=4.0->streamlit>=1.13.0->streamlit-folium) (5.12.0)\n",
      "Requirement already satisfied: mdurl~=0.1 in /Users/clarissa/anaconda3/envs/thesis/lib/python3.8/site-packages (from markdown-it-py<3.0.0,>=2.2.0->rich<14,>=10.11.0->streamlit>=1.13.0->streamlit-folium) (0.1.2)\n",
      "Installing collected packages: streamlit-folium\n",
      "Successfully installed streamlit-folium-0.12.0\n"
     ]
    }
   ],
   "source": [
    "!pip install folium\n",
    "!pip install streamlit-folium"
   ]
  },
  {
   "cell_type": "code",
   "execution_count": 13,
   "id": "df9cdb6b",
   "metadata": {},
   "outputs": [],
   "source": [
    "import streamlit as st\n",
    "import pandas as pd\n",
    "import numpy as np\n",
    "import folium\n",
    "from streamlit_folium import folium_static"
   ]
  },
  {
   "cell_type": "code",
   "execution_count": 14,
   "id": "0fc3e959",
   "metadata": {},
   "outputs": [],
   "source": [
    "option = st.sidebar.selectbox(\n",
    "    'Silakan pilih:',\n",
    "    ('Home','Dataframe','Chart')\n",
    ")"
   ]
  },
  {
   "cell_type": "code",
   "execution_count": 16,
   "id": "8ce90201",
   "metadata": {},
   "outputs": [],
   "source": [
    "if option == 'Home' or option == '':\n",
    "    st.write(\"\"\"# Halaman Utama\"\"\") #menampilkan halaman utama\n",
    "    \n",
    "    # Membuat peta menggunakan folium\n",
    "    m = folium.Map(location=[-6.1754, 106.8272], zoom_start=10)\n",
    "\n",
    "    # Menambahkan mark pada peta\n",
    "    folium.Marker([-6.1754, 106.8272], popup='Jakarta').add_to(m)\n",
    "\n",
    "    # Menampilkan peta menggunakan Streamlit\n",
    "    st.markdown('<h1>Map</h1>', unsafe_allow_html=True)\n",
    "    st.markdown(m._repr_html_(), unsafe_allow_html=True)\n",
    "elif option == 'Dataframe':\n",
    "    st.write(\"\"\"## Dataframe\"\"\") #menampilkan judul halaman dataframe\n",
    "\n",
    "    #membuat dataframe dengan pandas yang terdiri dari 2 kolom dan 4 baris data\n",
    "    df = pd.DataFrame({\n",
    "        'Column 1':[1,2,3,4],\n",
    "        'Column 2':[10,12,14,16]\n",
    "    })\n",
    "    df #menampilkan dataframe\n",
    "elif option == 'Chart':\n",
    "    st.write(\"\"\"## Draw Charts\"\"\") #menampilkan judul halaman \n",
    "\n",
    "    #membuat variabel chart data yang berisi data dari dataframe\n",
    "    #data berupa angka acak yang di-generate menggunakan numpy\n",
    "    #data terdiri dari 2 kolom dan 20 baris\n",
    "    chart_data = pd.DataFrame(\n",
    "        np.random.randn(20,2), \n",
    "        columns=['a','b']\n",
    "    )\n",
    "    #menampilkan data dalam bentuk chart\n",
    "    st.line_chart(chart_data)\n",
    "    #data dalam bentuk tabel\n",
    "    chart_data\n",
    "    \n",
    "\n"
   ]
  },
  {
   "cell_type": "code",
   "execution_count": 7,
   "id": "9d8e5ffb",
   "metadata": {},
   "outputs": [
    {
     "ename": "SyntaxError",
     "evalue": "invalid syntax (2901134060.py, line 1)",
     "output_type": "error",
     "traceback": [
      "\u001b[0;36m  Cell \u001b[0;32mIn[7], line 1\u001b[0;36m\u001b[0m\n\u001b[0;31m    streamlit run Untitled1.py\u001b[0m\n\u001b[0m              ^\u001b[0m\n\u001b[0;31mSyntaxError\u001b[0m\u001b[0;31m:\u001b[0m invalid syntax\n"
     ]
    }
   ],
   "source": []
  },
  {
   "cell_type": "code",
   "execution_count": null,
   "id": "5e1f7c79",
   "metadata": {},
   "outputs": [],
   "source": []
  }
 ],
 "metadata": {
  "kernelspec": {
   "display_name": "Python 3 (ipykernel)",
   "language": "python",
   "name": "python3"
  },
  "language_info": {
   "codemirror_mode": {
    "name": "ipython",
    "version": 3
   },
   "file_extension": ".py",
   "mimetype": "text/x-python",
   "name": "python",
   "nbconvert_exporter": "python",
   "pygments_lexer": "ipython3",
   "version": "3.8.16"
  }
 },
 "nbformat": 4,
 "nbformat_minor": 5
}
